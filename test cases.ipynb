{
 "cells": [
  {
   "cell_type": "code",
   "execution_count": null,
   "metadata": {},
   "outputs": [],
   "source": [
    "import importlib\n",
    "import quaternionpy\n",
    "importlib.reload(quaternionpy)"
   ]
  },
  {
   "cell_type": "code",
   "execution_count": 2,
   "metadata": {},
   "outputs": [
    {
     "name": "stdout",
     "output_type": "stream",
     "text": [
      "0\n",
      "[1, 2, 3, 4]\n",
      "1\n",
      "[-1 -2 -3  4]\n",
      "2\n",
      "[-1 -2 -3  4]\n",
      "3\n",
      "0\n",
      "[0.18257419 0.36514837 0.54772256 0.73029674]\n",
      "3\n",
      "4\n",
      "0\n",
      "[0.    0.001 0.    0.001]\n",
      "5\n",
      "0\n",
      "[1. 0. 0. 0.]\n"
     ]
    }
   ],
   "source": [
    "# testing prop, norm, inv:\n",
    "quat1 = [1, 2, 3, 4]\n",
    "quat2 = [1, 2, 3, -4]\n",
    "quat3 = [0, 0.00000000001, 0, 0.00000000001]\n",
    "quat4 = [1.0000000001, 0, 0, 0]\n",
    "\n",
    "print(quaternionpy.q_prop(quat1))\n",
    "# Expected result: [1,2,3,4]\n",
    "\n",
    "print(quaternionpy.q_prop(quat2))\n",
    "# Expected result: [-1, -2, -3, 4]\n",
    "\n",
    "print(quaternionpy.q_inv(quat1))\n",
    "# Expected result: [-1, -2, -3, 4]\n",
    "\n",
    "print(quaternionpy.q_norm(quat1))\n",
    "# Expected result: [0.182574185835055, 0.365148371670111, 0.547722557505166, 0.730296743340221]\n",
    "\n",
    "print(quaternionpy.q_norm(quat3))\n",
    "# Expected result: [0, 1.000000000000000e-03, 0, 1.000000000000000e-03]\n",
    "\n",
    "print(quaternionpy.q_norm(quat4))\n",
    "# Expected result: [1, 0, 0, 0]"
   ]
  },
  {
   "cell_type": "code",
   "execution_count": 3,
   "metadata": {},
   "outputs": [
    {
     "name": "stdout",
     "output_type": "stream",
     "text": [
      "6\n",
      "3\n",
      "0\n",
      "0\n",
      "[-0.24806947 -0.08268982  0.95093297  0.16537965]\n",
      "7\n",
      "[-85. -34.  13.]\n",
      "8\n",
      "2\n",
      "7\n",
      "[ 51. -18. -75.]\n",
      "9\n",
      "2\n",
      "6\n",
      "3\n",
      "1\n",
      "0\n",
      "[0.57882876 0.41344912 0.62017367 0.33075929]\n"
     ]
    }
   ],
   "source": [
    "# testing q_q_mult, qinv_v_q_mult, q_v_qinv_mult, qinv_q_mult\n",
    "quat5 = [1, -3, 1, -2]\n",
    "quat6 = [5, 3, -2, 1]\n",
    "vec1 = [3, 2, 5]\n",
    " \n",
    "print(quaternionpy.q_q_mult(quat5, quat6))\n",
    "# Expected result: [-0.248069469178417, -0.082689823059472, 0.950932965183932, 0.165379646118945]\n",
    "\n",
    "print(quaternionpy.qinv_v_q_mult(vec1, quat5))\n",
    "# Expected result: [-85, -34, 13]\n",
    "\n",
    "print(quaternionpy.q_v_qinv_mult(vec1, quat5))\n",
    "# Expected result: [51, -18, -75]\n",
    "\n",
    "print(quaternionpy.qinv_q_mult(quat5, quat6))\n",
    "# Expected result: [0.578828761416306, 0.413449115297362, 0.620173672946042, 0.330759292237889]\n"
   ]
  },
  {
   "cell_type": "code",
   "execution_count": 4,
   "metadata": {},
   "outputs": [
    {
     "name": "stdout",
     "output_type": "stream",
     "text": [
      "10\n",
      "[[ -2.   8. -16.]\n",
      " [ 16.   8.   2.]\n",
      " [  8. -14.  -8.]]\n",
      "12\n",
      "0\n",
      "[-0.25  0.5  -0.25  2.  ]\n",
      "11\n",
      "11\n",
      "1\n",
      "[-1.25 -1.75 -2.    0.25]\n"
     ]
    }
   ],
   "source": [
    "# testing q2dcm and dcm2q\n",
    "quat7 = [2, 3, -1, 2]\n",
    "matrx1 = [[1, 2, 3], [4, 5, 6], [7, 8, 9]]\n",
    "matrx2 = [[-1, 2, 3], [4, -5, 6], [7, 8, 9]]\n",
    "print(quaternionpy.q2dcm(quat7))\n",
    "# Expected result: [-2,8,-16;16,8,2;8,-14,-8]\n",
    "\n",
    "print(quaternionpy.dcm2q(matrx1))\n",
    "# Expected result: [-0.250000000000000,0.500000000000000,-0.250000000000000,2]\n",
    "\n",
    "print(quaternionpy.dcm2q(matrx2))\n",
    "# Expected result: [-1.250000000000000,-1.750000000000000,-2,0.250000000000000]\n"
   ]
  }
 ],
 "metadata": {
  "kernelspec": {
   "display_name": "Python 3",
   "language": "python",
   "name": "python3"
  },
  "language_info": {
   "codemirror_mode": {
    "name": "ipython",
    "version": 3
   },
   "file_extension": ".py",
   "mimetype": "text/x-python",
   "name": "python",
   "nbconvert_exporter": "python",
   "pygments_lexer": "ipython3",
   "version": "3.12.3"
  }
 },
 "nbformat": 4,
 "nbformat_minor": 2
}
